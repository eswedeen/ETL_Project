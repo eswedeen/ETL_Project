{
 "cells": [
  {
   "cell_type": "code",
   "execution_count": 209,
   "metadata": {},
   "outputs": [],
   "source": [
    "# dependancies\n",
    "import requests\n",
    "from bs4 import BeautifulSoup\n",
    "import pandas as pd\n",
    "import numpy as np\n",
    "import datetime\n",
    "from random import randint\n",
    "from time import sleep\n",
    "from config2 import password"
   ]
  },
  {
   "cell_type": "code",
   "execution_count": 2,
   "metadata": {},
   "outputs": [],
   "source": [
    "# set url and get page data\n",
    "url = 'https://locations.sonicdrivein.com/tx.html'\n",
    "response = requests.get(url)"
   ]
  },
  {
   "cell_type": "code",
   "execution_count": 214,
   "metadata": {},
   "outputs": [
    {
     "name": "stdout",
     "output_type": "stream",
     "text": [
      "Scraping Complete\n"
     ]
    },
    {
     "data": {
      "text/plain": [
       "[]"
      ]
     },
     "execution_count": 214,
     "metadata": {},
     "output_type": "execute_result"
    }
   ],
   "source": [
    "# Collect city paths\n",
    "soup = BeautifulSoup(response.text, 'html.parser')\n",
    "\n",
    "locations = soup.body.find_all('a', class_='c-directory-list-content-item-link')\n",
    "\n",
    "city_urls = []\n",
    "for location in locations:\n",
    "    path = \"https://locations.sonicdrivein.com/\" + location['href']\n",
    "    city_urls.append(path)\n",
    "\n",
    "print(\"Scraping Complete\")\n",
    "city_urls"
   ]
  },
  {
   "cell_type": "code",
   "execution_count": 4,
   "metadata": {},
   "outputs": [
    {
     "data": {
      "text/plain": [
       "474"
      ]
     },
     "execution_count": 4,
     "metadata": {},
     "output_type": "execute_result"
    }
   ],
   "source": [
    "n = len(city_urls)\n",
    "n"
   ]
  },
  {
   "cell_type": "code",
   "execution_count": 5,
   "metadata": {},
   "outputs": [
    {
     "name": "stdout",
     "output_type": "stream",
     "text": [
      "Scraping Complete\n"
     ]
    }
   ],
   "source": [
    "Brand = []\n",
    "Addresses = []\n",
    "Localities = []\n",
    "States = []\n",
    "Postal_codes = []\n",
    "Date = []\n",
    "Time = []\n",
    "\n",
    "for x in city_urls[:]:\n",
    "    response = requests.get(x)\n",
    "    soup3 = BeautifulSoup(response.text, 'html.parser')\n",
    "# Address collection   \n",
    "    units2 = soup3.find_all('span', class_='c-address-street-1')\n",
    "    for b in units2:\n",
    "        Brand.append(\"Sonic Drive-In\")\n",
    "        name2 = b.text\n",
    "        Addresses.append(name2)\n",
    "# locality collection    \n",
    "    units3 = soup3.find_all('span', class_='c-address-city')\n",
    "    for c in units3:\n",
    "        name3 = c.text\n",
    "        Localities.append(name3)\n",
    "# State collection    \n",
    "    units4 = soup3.find_all('abbr', class_='c-address-state')\n",
    "    for d in units4:\n",
    "        name4 = d.text\n",
    "        States.append(name4)\n",
    "# Postal Code collection    \n",
    "    units5 = soup3.find_all('span', class_='c-address-postal-code')\n",
    "    for e in units5:\n",
    "        name5 = e.text\n",
    "        Postal_codes.append(name5)\n",
    "# Add time stamp\n",
    "        current_date = datetime.datetime.now()\n",
    "        Date.append(current_date.strftime(\"%Y-%m-%d\"))\n",
    "        Time.append(current_date.strftime(\"%H:%M:%S\"))\n",
    "    #sleep(randint(1,4))\n",
    "        \n",
    "print(\"Scraping Complete\")"
   ]
  },
  {
   "cell_type": "code",
   "execution_count": 6,
   "metadata": {},
   "outputs": [
    {
     "data": {
      "text/plain": [
       "2334"
      ]
     },
     "execution_count": 6,
     "metadata": {},
     "output_type": "execute_result"
    }
   ],
   "source": [
    "len(Addresses)"
   ]
  },
  {
   "cell_type": "code",
   "execution_count": 169,
   "metadata": {},
   "outputs": [
    {
     "data": {
      "text/html": [
       "<div>\n",
       "<style scoped>\n",
       "    .dataframe tbody tr th:only-of-type {\n",
       "        vertical-align: middle;\n",
       "    }\n",
       "\n",
       "    .dataframe tbody tr th {\n",
       "        vertical-align: top;\n",
       "    }\n",
       "\n",
       "    .dataframe thead th {\n",
       "        text-align: right;\n",
       "    }\n",
       "</style>\n",
       "<table border=\"1\" class=\"dataframe\">\n",
       "  <thead>\n",
       "    <tr style=\"text-align: right;\">\n",
       "      <th></th>\n",
       "      <th>Address</th>\n",
       "      <th>City</th>\n",
       "      <th>State</th>\n",
       "      <th>Postal Code</th>\n",
       "      <th>Date</th>\n",
       "      <th>Time</th>\n",
       "    </tr>\n",
       "    <tr>\n",
       "      <th>Brand</th>\n",
       "      <th></th>\n",
       "      <th></th>\n",
       "      <th></th>\n",
       "      <th></th>\n",
       "      <th></th>\n",
       "      <th></th>\n",
       "    </tr>\n",
       "  </thead>\n",
       "  <tbody>\n",
       "    <tr>\n",
       "      <th>Sonic Drive-In</th>\n",
       "      <td>1442 Barrow Street</td>\n",
       "      <td>Abilene</td>\n",
       "      <td>TX</td>\n",
       "      <td>79605</td>\n",
       "      <td>2019-02-21</td>\n",
       "      <td>19:33:29</td>\n",
       "    </tr>\n",
       "    <tr>\n",
       "      <th>Sonic Drive-In</th>\n",
       "      <td>1734 N. First Street</td>\n",
       "      <td>Abilene</td>\n",
       "      <td>TX</td>\n",
       "      <td>79603</td>\n",
       "      <td>2019-02-21</td>\n",
       "      <td>19:33:29</td>\n",
       "    </tr>\n",
       "    <tr>\n",
       "      <th>Sonic Drive-In</th>\n",
       "      <td>202 N. Judge Ely Boulevard</td>\n",
       "      <td>Abilene</td>\n",
       "      <td>TX</td>\n",
       "      <td>79601</td>\n",
       "      <td>2019-02-21</td>\n",
       "      <td>19:33:29</td>\n",
       "    </tr>\n",
       "    <tr>\n",
       "      <th>Sonic Drive-In</th>\n",
       "      <td>2402 Sayles Boulevard</td>\n",
       "      <td>Abilene</td>\n",
       "      <td>TX</td>\n",
       "      <td>79605</td>\n",
       "      <td>2019-02-21</td>\n",
       "      <td>19:33:29</td>\n",
       "    </tr>\n",
       "    <tr>\n",
       "      <th>Sonic Drive-In</th>\n",
       "      <td>3856 S. Clack Street</td>\n",
       "      <td>Abilene</td>\n",
       "      <td>TX</td>\n",
       "      <td>79606</td>\n",
       "      <td>2019-02-21</td>\n",
       "      <td>19:33:29</td>\n",
       "    </tr>\n",
       "  </tbody>\n",
       "</table>\n",
       "</div>"
      ],
      "text/plain": [
       "                                    Address     City State Postal Code  \\\n",
       "Brand                                                                    \n",
       "Sonic Drive-In          1442 Barrow Street   Abilene    TX       79605   \n",
       "Sonic Drive-In        1734 N. First Street   Abilene    TX       79603   \n",
       "Sonic Drive-In  202 N. Judge Ely Boulevard   Abilene    TX       79601   \n",
       "Sonic Drive-In       2402 Sayles Boulevard   Abilene    TX       79605   \n",
       "Sonic Drive-In        3856 S. Clack Street   Abilene    TX       79606   \n",
       "\n",
       "                      Date      Time  \n",
       "Brand                                 \n",
       "Sonic Drive-In  2019-02-21  19:33:29  \n",
       "Sonic Drive-In  2019-02-21  19:33:29  \n",
       "Sonic Drive-In  2019-02-21  19:33:29  \n",
       "Sonic Drive-In  2019-02-21  19:33:29  \n",
       "Sonic Drive-In  2019-02-21  19:33:29  "
      ]
     },
     "execution_count": 169,
     "metadata": {},
     "output_type": "execute_result"
    }
   ],
   "source": [
    "# Put data into a dataframe\n",
    "Location_data = pd.DataFrame(np.column_stack([Brand, Addresses, Localities, States, Postal_codes, Date, Time]),\\\n",
    "                             columns=[\"Brand\", \"Address\", \"City\", \"State\", \"Postal Code\", \"Date\", \"Time\"])\n",
    "\n",
    "# Clean data: sort, drop duplicates, set index\n",
    "Location_data.sort_values([\"State\", \"City\",\"Address\"], inplace=True)\n",
    "Location_data.drop_duplicates(subset =\"Address\", keep=\"first\", inplace=True) \n",
    "Location_data.set_index('Brand',inplace=True, drop=True)\n",
    "#remove common after City\n",
    "Location_data.loc[:, 'City'] = Location_data['City'].str[:-1]\n",
    "# Need - drop State rows to include Texas only\n",
    "Location_data = Location_data[Location_data.State == 'TX']\n",
    "\n",
    "# Describe and view head\n",
    "Sonic_df = Location_data\n",
    "Sonic_df.head()"
   ]
  },
  {
   "cell_type": "code",
   "execution_count": 170,
   "metadata": {},
   "outputs": [
    {
     "data": {
      "text/html": [
       "<div>\n",
       "<style scoped>\n",
       "    .dataframe tbody tr th:only-of-type {\n",
       "        vertical-align: middle;\n",
       "    }\n",
       "\n",
       "    .dataframe tbody tr th {\n",
       "        vertical-align: top;\n",
       "    }\n",
       "\n",
       "    .dataframe thead th {\n",
       "        text-align: right;\n",
       "    }\n",
       "</style>\n",
       "<table border=\"1\" class=\"dataframe\">\n",
       "  <thead>\n",
       "    <tr style=\"text-align: right;\">\n",
       "      <th></th>\n",
       "      <th>Address</th>\n",
       "      <th>City</th>\n",
       "      <th>State</th>\n",
       "      <th>Postal Code</th>\n",
       "      <th>Date</th>\n",
       "      <th>Time</th>\n",
       "    </tr>\n",
       "    <tr>\n",
       "      <th>Brand</th>\n",
       "      <th></th>\n",
       "      <th></th>\n",
       "      <th></th>\n",
       "      <th></th>\n",
       "      <th></th>\n",
       "      <th></th>\n",
       "    </tr>\n",
       "  </thead>\n",
       "  <tbody>\n",
       "    <tr>\n",
       "      <th>Wendy's</th>\n",
       "      <td>4374 Southwest Dr</td>\n",
       "      <td>Abilene</td>\n",
       "      <td>TX</td>\n",
       "      <td>79606</td>\n",
       "      <td>2019-02-20</td>\n",
       "      <td>11:17:23</td>\n",
       "    </tr>\n",
       "    <tr>\n",
       "      <th>Wendy's</th>\n",
       "      <td>3710 Beltline Road</td>\n",
       "      <td>Addison</td>\n",
       "      <td>TX</td>\n",
       "      <td>75001</td>\n",
       "      <td>2019-02-20</td>\n",
       "      <td>11:17:23</td>\n",
       "    </tr>\n",
       "    <tr>\n",
       "      <th>Wendy's</th>\n",
       "      <td>2025 W McDermott Drive</td>\n",
       "      <td>Allen</td>\n",
       "      <td>TX</td>\n",
       "      <td>75013</td>\n",
       "      <td>2019-02-20</td>\n",
       "      <td>11:17:24</td>\n",
       "    </tr>\n",
       "    <tr>\n",
       "      <th>Wendy's</th>\n",
       "      <td>601 W McDermott Drive</td>\n",
       "      <td>Allen</td>\n",
       "      <td>TX</td>\n",
       "      <td>75013</td>\n",
       "      <td>2019-02-20</td>\n",
       "      <td>11:17:24</td>\n",
       "    </tr>\n",
       "    <tr>\n",
       "      <th>Wendy's</th>\n",
       "      <td>2000 Ross-Osage St</td>\n",
       "      <td>Amarillo</td>\n",
       "      <td>TX</td>\n",
       "      <td>79103</td>\n",
       "      <td>2019-02-20</td>\n",
       "      <td>11:17:24</td>\n",
       "    </tr>\n",
       "  </tbody>\n",
       "</table>\n",
       "</div>"
      ],
      "text/plain": [
       "                        Address      City State  Postal Code        Date  \\\n",
       "Brand                                                                      \n",
       "Wendy's       4374 Southwest Dr   Abilene    TX        79606  2019-02-20   \n",
       "Wendy's      3710 Beltline Road   Addison    TX        75001  2019-02-20   \n",
       "Wendy's  2025 W McDermott Drive     Allen    TX        75013  2019-02-20   \n",
       "Wendy's   601 W McDermott Drive     Allen    TX        75013  2019-02-20   \n",
       "Wendy's      2000 Ross-Osage St  Amarillo    TX        79103  2019-02-20   \n",
       "\n",
       "             Time  \n",
       "Brand              \n",
       "Wendy's  11:17:23  \n",
       "Wendy's  11:17:23  \n",
       "Wendy's  11:17:24  \n",
       "Wendy's  11:17:24  \n",
       "Wendy's  11:17:24  "
      ]
     },
     "execution_count": 170,
     "metadata": {},
     "output_type": "execute_result"
    }
   ],
   "source": [
    "Wendys_df = pd.read_csv(\"C:/Users/May 2018/Desktop/SMU Bootcamp Doc/ETL_Project/Wendys_Texas_Locations_Detailed_Version.csv\")\n",
    "Wendys_df.set_index('Brand',inplace=True, drop=True)\n",
    "Wendys_df.head()"
   ]
  },
  {
   "cell_type": "code",
   "execution_count": 195,
   "metadata": {},
   "outputs": [
    {
     "data": {
      "text/plain": [
       "1371"
      ]
     },
     "execution_count": 195,
     "metadata": {},
     "output_type": "execute_result"
    }
   ],
   "source": [
    "merged = pd.concat([Sonic_df, Wendys_df], )\n",
    "len(merged)"
   ]
  },
  {
   "cell_type": "code",
   "execution_count": 87,
   "metadata": {},
   "outputs": [
    {
     "name": "stdout",
     "output_type": "stream",
     "text": [
      "399\n",
      "972\n"
     ]
    }
   ],
   "source": [
    "Wendys_count = Wendys_df[\"Postal Code\"].count()\n",
    "Sonic_count = Sonic_df[\"Postal Code\"].count()\n",
    "print(Wendys_count)\n",
    "print(Sonic_count)"
   ]
  },
  {
   "cell_type": "code",
   "execution_count": 103,
   "metadata": {},
   "outputs": [
    {
     "name": "stdout",
     "output_type": "stream",
     "text": [
      "239\n",
      "239\n"
     ]
    }
   ],
   "source": [
    "Sonic_df_nums = pd.to_numeric(Sonic_df['Postal Code'])\n",
    "\n",
    "Sonic_zip_list = list(Sonic_df_nums)\n",
    "Wendys_zip_list = list(Wendys_df[\"Postal Code\"])\n",
    "\n",
    "shared_zip_codes1 = 0\n",
    "\n",
    "for zip in Wendys_zip_list:\n",
    "    shared_zip_codes1 += Sonic_zip_list.count(zip)\n",
    "print(shared_zip_codes1)"
   ]
  },
  {
   "cell_type": "code",
   "execution_count": 108,
   "metadata": {},
   "outputs": [
    {
     "name": "stdout",
     "output_type": "stream",
     "text": [
      "Wendys Overlap %: 59.899749373433586, Sonic Overlap %: 24.588477366255145\n"
     ]
    }
   ],
   "source": [
    "Wendys_overlap = shared_zip_codes1/Wendys_count * 100\n",
    "Sonic_overlap = shared_zip_codes1/Sonic_count * 100\n",
    "\n",
    "print(f'Wendys Overlap %: {Wendys_overlap}, Sonic Overlap %: {Sonic_overlap}')"
   ]
  },
  {
   "cell_type": "code",
   "execution_count": 171,
   "metadata": {},
   "outputs": [],
   "source": [
    "#Dependencies\n",
    "import sqlalchemy\n",
    "from sqlalchemy import create_engine, func, inspect\n",
    "from sqlalchemy.orm import Session\n",
    "from sqlalchemy.ext.automap import automap_base\n",
    "\n",
    "# PyMySQL\n",
    "import pymysql\n",
    "import pymysql.cursors\n",
    "pymysql.install_as_MySQLdb()\n",
    "\n",
    "#config file\n",
    "from config import password"
   ]
  },
  {
   "cell_type": "code",
   "execution_count": 210,
   "metadata": {},
   "outputs": [],
   "source": [
    "start = \"mysql://root:\"\n",
    "end = \"@localhost:3306/etl_project_db\"\n",
    "path = start + password + end\n",
    "engine = create_engine(path)\n",
    "#\"mysql://root: @localhost:3306/etl_project_db\""
   ]
  },
  {
   "cell_type": "code",
   "execution_count": 211,
   "metadata": {},
   "outputs": [],
   "source": [
    "Sonic_df.to_sql(name='sonic', con=engine, if_exists='replace', index=False)\n",
    "Wendys_df.to_sql(name='wendys', con=engine, if_exists='replace', index=False)\n",
    "merged.to_sql(name='merged', con=engine, if_exists='replace', index=False)"
   ]
  },
  {
   "cell_type": "code",
   "execution_count": 185,
   "metadata": {},
   "outputs": [
    {
     "data": {
      "text/html": [
       "<div>\n",
       "<style scoped>\n",
       "    .dataframe tbody tr th:only-of-type {\n",
       "        vertical-align: middle;\n",
       "    }\n",
       "\n",
       "    .dataframe tbody tr th {\n",
       "        vertical-align: top;\n",
       "    }\n",
       "\n",
       "    .dataframe thead th {\n",
       "        text-align: right;\n",
       "    }\n",
       "</style>\n",
       "<table border=\"1\" class=\"dataframe\">\n",
       "  <thead>\n",
       "    <tr style=\"text-align: right;\">\n",
       "      <th></th>\n",
       "      <th>0</th>\n",
       "      <th>1</th>\n",
       "      <th>2</th>\n",
       "      <th>3</th>\n",
       "      <th>4</th>\n",
       "      <th>5</th>\n",
       "    </tr>\n",
       "  </thead>\n",
       "  <tbody>\n",
       "    <tr>\n",
       "      <th>0</th>\n",
       "      <td>1442 Barrow Street</td>\n",
       "      <td>Abilene</td>\n",
       "      <td>TX</td>\n",
       "      <td>79605</td>\n",
       "      <td>2019-02-21</td>\n",
       "      <td>19:33:29</td>\n",
       "    </tr>\n",
       "    <tr>\n",
       "      <th>1</th>\n",
       "      <td>1734 N. First Street</td>\n",
       "      <td>Abilene</td>\n",
       "      <td>TX</td>\n",
       "      <td>79603</td>\n",
       "      <td>2019-02-21</td>\n",
       "      <td>19:33:29</td>\n",
       "    </tr>\n",
       "    <tr>\n",
       "      <th>2</th>\n",
       "      <td>202 N. Judge Ely Boulevard</td>\n",
       "      <td>Abilene</td>\n",
       "      <td>TX</td>\n",
       "      <td>79601</td>\n",
       "      <td>2019-02-21</td>\n",
       "      <td>19:33:29</td>\n",
       "    </tr>\n",
       "    <tr>\n",
       "      <th>3</th>\n",
       "      <td>2402 Sayles Boulevard</td>\n",
       "      <td>Abilene</td>\n",
       "      <td>TX</td>\n",
       "      <td>79605</td>\n",
       "      <td>2019-02-21</td>\n",
       "      <td>19:33:29</td>\n",
       "    </tr>\n",
       "    <tr>\n",
       "      <th>4</th>\n",
       "      <td>3856 S. Clack Street</td>\n",
       "      <td>Abilene</td>\n",
       "      <td>TX</td>\n",
       "      <td>79606</td>\n",
       "      <td>2019-02-21</td>\n",
       "      <td>19:33:29</td>\n",
       "    </tr>\n",
       "  </tbody>\n",
       "</table>\n",
       "</div>"
      ],
      "text/plain": [
       "                             0        1   2       3           4         5\n",
       "0          1442 Barrow Street   Abilene  TX   79605  2019-02-21  19:33:29\n",
       "1        1734 N. First Street   Abilene  TX   79603  2019-02-21  19:33:29\n",
       "2  202 N. Judge Ely Boulevard   Abilene  TX   79601  2019-02-21  19:33:29\n",
       "3       2402 Sayles Boulevard   Abilene  TX   79605  2019-02-21  19:33:29\n",
       "4        3856 S. Clack Street   Abilene  TX   79606  2019-02-21  19:33:29"
      ]
     },
     "execution_count": 185,
     "metadata": {},
     "output_type": "execute_result"
    }
   ],
   "source": [
    "sonic = engine.execute(\"SELECT * FROM sonic\").fetchall()\n",
    "sonic = pd.DataFrame(sonic)\n",
    "sonic.head()"
   ]
  },
  {
   "cell_type": "code",
   "execution_count": 186,
   "metadata": {},
   "outputs": [
    {
     "data": {
      "text/html": [
       "<div>\n",
       "<style scoped>\n",
       "    .dataframe tbody tr th:only-of-type {\n",
       "        vertical-align: middle;\n",
       "    }\n",
       "\n",
       "    .dataframe tbody tr th {\n",
       "        vertical-align: top;\n",
       "    }\n",
       "\n",
       "    .dataframe thead th {\n",
       "        text-align: right;\n",
       "    }\n",
       "</style>\n",
       "<table border=\"1\" class=\"dataframe\">\n",
       "  <thead>\n",
       "    <tr style=\"text-align: right;\">\n",
       "      <th></th>\n",
       "      <th>0</th>\n",
       "      <th>1</th>\n",
       "      <th>2</th>\n",
       "      <th>3</th>\n",
       "      <th>4</th>\n",
       "      <th>5</th>\n",
       "    </tr>\n",
       "  </thead>\n",
       "  <tbody>\n",
       "    <tr>\n",
       "      <th>0</th>\n",
       "      <td>4374 Southwest Dr</td>\n",
       "      <td>Abilene</td>\n",
       "      <td>TX</td>\n",
       "      <td>79606</td>\n",
       "      <td>2019-02-20</td>\n",
       "      <td>11:17:23</td>\n",
       "    </tr>\n",
       "    <tr>\n",
       "      <th>1</th>\n",
       "      <td>3710 Beltline Road</td>\n",
       "      <td>Addison</td>\n",
       "      <td>TX</td>\n",
       "      <td>75001</td>\n",
       "      <td>2019-02-20</td>\n",
       "      <td>11:17:23</td>\n",
       "    </tr>\n",
       "    <tr>\n",
       "      <th>2</th>\n",
       "      <td>2025 W McDermott Drive</td>\n",
       "      <td>Allen</td>\n",
       "      <td>TX</td>\n",
       "      <td>75013</td>\n",
       "      <td>2019-02-20</td>\n",
       "      <td>11:17:24</td>\n",
       "    </tr>\n",
       "    <tr>\n",
       "      <th>3</th>\n",
       "      <td>601 W McDermott Drive</td>\n",
       "      <td>Allen</td>\n",
       "      <td>TX</td>\n",
       "      <td>75013</td>\n",
       "      <td>2019-02-20</td>\n",
       "      <td>11:17:24</td>\n",
       "    </tr>\n",
       "    <tr>\n",
       "      <th>4</th>\n",
       "      <td>2000 Ross-Osage St</td>\n",
       "      <td>Amarillo</td>\n",
       "      <td>TX</td>\n",
       "      <td>79103</td>\n",
       "      <td>2019-02-20</td>\n",
       "      <td>11:17:24</td>\n",
       "    </tr>\n",
       "  </tbody>\n",
       "</table>\n",
       "</div>"
      ],
      "text/plain": [
       "                        0         1   2      3           4         5\n",
       "0       4374 Southwest Dr   Abilene  TX  79606  2019-02-20  11:17:23\n",
       "1      3710 Beltline Road   Addison  TX  75001  2019-02-20  11:17:23\n",
       "2  2025 W McDermott Drive     Allen  TX  75013  2019-02-20  11:17:24\n",
       "3   601 W McDermott Drive     Allen  TX  75013  2019-02-20  11:17:24\n",
       "4      2000 Ross-Osage St  Amarillo  TX  79103  2019-02-20  11:17:24"
      ]
     },
     "execution_count": 186,
     "metadata": {},
     "output_type": "execute_result"
    }
   ],
   "source": [
    "wendys = engine.execute(\"SELECT * FROM wendys\").fetchall()\n",
    "wendys = pd.DataFrame(wendys)\n",
    "wendys.head()"
   ]
  },
  {
   "cell_type": "code",
   "execution_count": 212,
   "metadata": {},
   "outputs": [
    {
     "data": {
      "text/html": [
       "<div>\n",
       "<style scoped>\n",
       "    .dataframe tbody tr th:only-of-type {\n",
       "        vertical-align: middle;\n",
       "    }\n",
       "\n",
       "    .dataframe tbody tr th {\n",
       "        vertical-align: top;\n",
       "    }\n",
       "\n",
       "    .dataframe thead th {\n",
       "        text-align: right;\n",
       "    }\n",
       "</style>\n",
       "<table border=\"1\" class=\"dataframe\">\n",
       "  <thead>\n",
       "    <tr style=\"text-align: right;\">\n",
       "      <th></th>\n",
       "      <th>0</th>\n",
       "      <th>1</th>\n",
       "      <th>2</th>\n",
       "      <th>3</th>\n",
       "      <th>4</th>\n",
       "      <th>5</th>\n",
       "    </tr>\n",
       "  </thead>\n",
       "  <tbody>\n",
       "    <tr>\n",
       "      <th>0</th>\n",
       "      <td>1442 Barrow Street</td>\n",
       "      <td>Abilene</td>\n",
       "      <td>TX</td>\n",
       "      <td>79605</td>\n",
       "      <td>2019-02-21</td>\n",
       "      <td>19:33:29</td>\n",
       "    </tr>\n",
       "    <tr>\n",
       "      <th>1</th>\n",
       "      <td>1734 N. First Street</td>\n",
       "      <td>Abilene</td>\n",
       "      <td>TX</td>\n",
       "      <td>79603</td>\n",
       "      <td>2019-02-21</td>\n",
       "      <td>19:33:29</td>\n",
       "    </tr>\n",
       "    <tr>\n",
       "      <th>2</th>\n",
       "      <td>202 N. Judge Ely Boulevard</td>\n",
       "      <td>Abilene</td>\n",
       "      <td>TX</td>\n",
       "      <td>79601</td>\n",
       "      <td>2019-02-21</td>\n",
       "      <td>19:33:29</td>\n",
       "    </tr>\n",
       "    <tr>\n",
       "      <th>3</th>\n",
       "      <td>2402 Sayles Boulevard</td>\n",
       "      <td>Abilene</td>\n",
       "      <td>TX</td>\n",
       "      <td>79605</td>\n",
       "      <td>2019-02-21</td>\n",
       "      <td>19:33:29</td>\n",
       "    </tr>\n",
       "    <tr>\n",
       "      <th>4</th>\n",
       "      <td>3856 S. Clack Street</td>\n",
       "      <td>Abilene</td>\n",
       "      <td>TX</td>\n",
       "      <td>79606</td>\n",
       "      <td>2019-02-21</td>\n",
       "      <td>19:33:29</td>\n",
       "    </tr>\n",
       "  </tbody>\n",
       "</table>\n",
       "</div>"
      ],
      "text/plain": [
       "                             0        1   2       3           4         5\n",
       "0          1442 Barrow Street   Abilene  TX   79605  2019-02-21  19:33:29\n",
       "1        1734 N. First Street   Abilene  TX   79603  2019-02-21  19:33:29\n",
       "2  202 N. Judge Ely Boulevard   Abilene  TX   79601  2019-02-21  19:33:29\n",
       "3       2402 Sayles Boulevard   Abilene  TX   79605  2019-02-21  19:33:29\n",
       "4        3856 S. Clack Street   Abilene  TX   79606  2019-02-21  19:33:29"
      ]
     },
     "execution_count": 212,
     "metadata": {},
     "output_type": "execute_result"
    }
   ],
   "source": [
    "merged2 = engine.execute(\"SELECT * FROM merged\").fetchall()\n",
    "merged2 = pd.DataFrame(merged2)\n",
    "len(merged2)\n",
    "merged2.head()"
   ]
  },
  {
   "cell_type": "code",
   "execution_count": null,
   "metadata": {},
   "outputs": [],
   "source": []
  }
 ],
 "metadata": {
  "kernelspec": {
   "display_name": "Python 3",
   "language": "python",
   "name": "python3"
  },
  "language_info": {
   "codemirror_mode": {
    "name": "ipython",
    "version": 3
   },
   "file_extension": ".py",
   "mimetype": "text/x-python",
   "name": "python",
   "nbconvert_exporter": "python",
   "pygments_lexer": "ipython3",
   "version": "3.6.8"
  },
  "varInspector": {
   "cols": {
    "lenName": 16,
    "lenType": 16,
    "lenVar": 40
   },
   "kernels_config": {
    "python": {
     "delete_cmd_postfix": "",
     "delete_cmd_prefix": "del ",
     "library": "var_list.py",
     "varRefreshCmd": "print(var_dic_list())"
    },
    "r": {
     "delete_cmd_postfix": ") ",
     "delete_cmd_prefix": "rm(",
     "library": "var_list.r",
     "varRefreshCmd": "cat(var_dic_list()) "
    }
   },
   "types_to_exclude": [
    "module",
    "function",
    "builtin_function_or_method",
    "instance",
    "_Feature"
   ],
   "window_display": false
  }
 },
 "nbformat": 4,
 "nbformat_minor": 2
}
