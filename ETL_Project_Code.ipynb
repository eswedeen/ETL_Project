{
 "cells": [
  {
   "cell_type": "raw",
   "metadata": {},
   "source": [
    "# Guidelines for ETL Project\n",
    "\n",
    "This document contains guidelines, requirements, and suggestions for Project 1.\n",
    "\n",
    "## Team Effort\n",
    "\n",
    "Due to the short timeline, teamwork will be crucial to the success of this project! Work closely with your team through all phases of the project to ensure that there are no surprises at the end of the week.\n",
    "\n",
    "Working in a group enables you to tackle more difficult problems than you'd be able to working alone. In other words, working in a group allows you to **work smart** and **dream big**. Take advantage of it!\n",
    "\n",
    "## Project Proposal\n",
    "\n",
    "Before you start writing any code, remember that you only have one week to complete this project. View this project as a typical assignment from work. Imagine a bunch of data came in and you and your team are tasked with migrating it to a production data base.\n",
    "\n",
    "Take advantage of your Instructor and TA support during office hours and class project work time. They are a valuable resource and can help you stay on track.\n",
    "\n",
    "## Finding Data\n",
    "\n",
    "Your project must use 2 or more sources of data. We recommend the following sites to use as sources of data:\n",
    "\n",
    "* [data.world](https://data.world/)\n",
    "\n",
    "* [Kaggle](https://www.kaggle.com/)\n",
    "\n",
    "You can also use APIs or data scraped from the web. However, get approval from your instructor first. Again, there is only a week to complete this!\n",
    "\n",
    "## Data Cleanup & Analysis\n",
    "\n",
    "Once you have identified your datasets, perform ETL on the data. Make sure to plan and document the following:\n",
    "\n",
    "* The sources of data that you will extract from.\n",
    "\n",
    "* The type of transformation needed for this data (cleaning, joining, filtering, aggregating, etc).\n",
    "\n",
    "* The type of final production database to load the data into (relational or non-relational).\n",
    "\n",
    "* The final tables or collections that will be used in the production database.\n",
    "\n",
    "You will be required to submit a final technical report with the above information and steps required to reproduce your ETL process.\n",
    "\n",
    "## Project Report\n",
    "\n",
    "At the end of the week, your team will submit a Final Report that describes the following:\n",
    "\n",
    "* **E**xtract: your original data sources and how the data was formatted (CSV, JSON, MySQL, etc).\n",
    "\n",
    "* **T**ransform: what data cleaning or transformation was required.\n",
    "\n",
    "* **L**oad: the final database, tables/collections, and why this was chosen.\n",
    "\n",
    "Please upload the report to Github and submit a link to Bootcampspot."
   ]
  },
  {
   "cell_type": "code",
   "execution_count": null,
   "metadata": {},
   "outputs": [],
   "source": []
  }
 ],
 "metadata": {
  "kernelspec": {
   "display_name": "Python 3",
   "language": "python",
   "name": "python3"
  },
  "language_info": {
   "codemirror_mode": {
    "name": "ipython",
    "version": 3
   },
   "file_extension": ".py",
   "mimetype": "text/x-python",
   "name": "python",
   "nbconvert_exporter": "python",
   "pygments_lexer": "ipython3",
   "version": "3.6.8"
  }
 },
 "nbformat": 4,
 "nbformat_minor": 2
}
