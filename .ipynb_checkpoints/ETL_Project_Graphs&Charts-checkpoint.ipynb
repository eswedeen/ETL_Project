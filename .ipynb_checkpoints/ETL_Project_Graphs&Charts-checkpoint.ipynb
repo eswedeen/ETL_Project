{
 "cells": [
  {
   "cell_type": "code",
   "execution_count": 21,
   "metadata": {},
   "outputs": [],
   "source": [
    "%matplotlib inline\n",
    "\n",
    "# Dependencies and Setup\n",
    "import matplotlib.pyplot as plt\n",
    "import pandas as pd\n",
    "import numpy as np"
   ]
  },
  {
   "cell_type": "code",
   "execution_count": 22,
   "metadata": {},
   "outputs": [],
   "source": [
    "# Files to load \n",
    "wendys_csv = \"Wendys_Texas_Locations_Detailed_Version.csv\"\n",
    "sonics_csv = \"Sonic_Texas_Locations_Detailed_Version.csv\""
   ]
  },
  {
   "cell_type": "code",
   "execution_count": 23,
   "metadata": {},
   "outputs": [
    {
     "data": {
      "text/html": [
       "<div>\n",
       "<style scoped>\n",
       "    .dataframe tbody tr th:only-of-type {\n",
       "        vertical-align: middle;\n",
       "    }\n",
       "\n",
       "    .dataframe tbody tr th {\n",
       "        vertical-align: top;\n",
       "    }\n",
       "\n",
       "    .dataframe thead th {\n",
       "        text-align: right;\n",
       "    }\n",
       "</style>\n",
       "<table border=\"1\" class=\"dataframe\">\n",
       "  <thead>\n",
       "    <tr style=\"text-align: right;\">\n",
       "      <th></th>\n",
       "      <th>Brand</th>\n",
       "      <th>Address</th>\n",
       "      <th>City</th>\n",
       "      <th>State</th>\n",
       "      <th>Postal Code</th>\n",
       "      <th>Date</th>\n",
       "      <th>Time</th>\n",
       "    </tr>\n",
       "  </thead>\n",
       "  <tbody>\n",
       "    <tr>\n",
       "      <th>0</th>\n",
       "      <td>Wendy's</td>\n",
       "      <td>4374 Southwest Dr</td>\n",
       "      <td>Abilene</td>\n",
       "      <td>TX</td>\n",
       "      <td>79606</td>\n",
       "      <td>2019-02-20</td>\n",
       "      <td>11:17:23</td>\n",
       "    </tr>\n",
       "    <tr>\n",
       "      <th>1</th>\n",
       "      <td>Wendy's</td>\n",
       "      <td>3710 Beltline Road</td>\n",
       "      <td>Addison</td>\n",
       "      <td>TX</td>\n",
       "      <td>75001</td>\n",
       "      <td>2019-02-20</td>\n",
       "      <td>11:17:23</td>\n",
       "    </tr>\n",
       "    <tr>\n",
       "      <th>2</th>\n",
       "      <td>Wendy's</td>\n",
       "      <td>2025 W McDermott Drive</td>\n",
       "      <td>Allen</td>\n",
       "      <td>TX</td>\n",
       "      <td>75013</td>\n",
       "      <td>2019-02-20</td>\n",
       "      <td>11:17:24</td>\n",
       "    </tr>\n",
       "    <tr>\n",
       "      <th>3</th>\n",
       "      <td>Wendy's</td>\n",
       "      <td>601 W McDermott Drive</td>\n",
       "      <td>Allen</td>\n",
       "      <td>TX</td>\n",
       "      <td>75013</td>\n",
       "      <td>2019-02-20</td>\n",
       "      <td>11:17:24</td>\n",
       "    </tr>\n",
       "    <tr>\n",
       "      <th>4</th>\n",
       "      <td>Wendy's</td>\n",
       "      <td>2000 Ross-Osage St</td>\n",
       "      <td>Amarillo</td>\n",
       "      <td>TX</td>\n",
       "      <td>79103</td>\n",
       "      <td>2019-02-20</td>\n",
       "      <td>11:17:24</td>\n",
       "    </tr>\n",
       "  </tbody>\n",
       "</table>\n",
       "</div>"
      ],
      "text/plain": [
       "     Brand                 Address      City State  Postal Code        Date  \\\n",
       "0  Wendy's       4374 Southwest Dr   Abilene    TX        79606  2019-02-20   \n",
       "1  Wendy's      3710 Beltline Road   Addison    TX        75001  2019-02-20   \n",
       "2  Wendy's  2025 W McDermott Drive     Allen    TX        75013  2019-02-20   \n",
       "3  Wendy's   601 W McDermott Drive     Allen    TX        75013  2019-02-20   \n",
       "4  Wendy's      2000 Ross-Osage St  Amarillo    TX        79103  2019-02-20   \n",
       "\n",
       "       Time  \n",
       "0  11:17:23  \n",
       "1  11:17:23  \n",
       "2  11:17:24  \n",
       "3  11:17:24  \n",
       "4  11:17:24  "
      ]
     },
     "execution_count": 23,
     "metadata": {},
     "output_type": "execute_result"
    }
   ],
   "source": [
    "wendys_data_df = pd.read_csv(wendys_csv)\n",
    "wendys_data_df.head()"
   ]
  },
  {
   "cell_type": "code",
   "execution_count": 24,
   "metadata": {},
   "outputs": [
    {
     "data": {
      "text/html": [
       "<div>\n",
       "<style scoped>\n",
       "    .dataframe tbody tr th:only-of-type {\n",
       "        vertical-align: middle;\n",
       "    }\n",
       "\n",
       "    .dataframe tbody tr th {\n",
       "        vertical-align: top;\n",
       "    }\n",
       "\n",
       "    .dataframe thead th {\n",
       "        text-align: right;\n",
       "    }\n",
       "</style>\n",
       "<table border=\"1\" class=\"dataframe\">\n",
       "  <thead>\n",
       "    <tr style=\"text-align: right;\">\n",
       "      <th></th>\n",
       "      <th>Brand</th>\n",
       "      <th>Address</th>\n",
       "      <th>City</th>\n",
       "      <th>State</th>\n",
       "      <th>Postal Code</th>\n",
       "      <th>Date</th>\n",
       "      <th>Time</th>\n",
       "    </tr>\n",
       "  </thead>\n",
       "  <tbody>\n",
       "    <tr>\n",
       "      <th>0</th>\n",
       "      <td>Sonic Drive-In</td>\n",
       "      <td>1442 Barrow Street</td>\n",
       "      <td>Abilene</td>\n",
       "      <td>TX</td>\n",
       "      <td>79605</td>\n",
       "      <td>2019-02-21</td>\n",
       "      <td>19:33:29</td>\n",
       "    </tr>\n",
       "    <tr>\n",
       "      <th>1</th>\n",
       "      <td>Sonic Drive-In</td>\n",
       "      <td>1734 N. First Street</td>\n",
       "      <td>Abilene</td>\n",
       "      <td>TX</td>\n",
       "      <td>79603</td>\n",
       "      <td>2019-02-21</td>\n",
       "      <td>19:33:29</td>\n",
       "    </tr>\n",
       "    <tr>\n",
       "      <th>2</th>\n",
       "      <td>Sonic Drive-In</td>\n",
       "      <td>202 N. Judge Ely Boulevard</td>\n",
       "      <td>Abilene</td>\n",
       "      <td>TX</td>\n",
       "      <td>79601</td>\n",
       "      <td>2019-02-21</td>\n",
       "      <td>19:33:29</td>\n",
       "    </tr>\n",
       "    <tr>\n",
       "      <th>3</th>\n",
       "      <td>Sonic Drive-In</td>\n",
       "      <td>2402 Sayles Boulevard</td>\n",
       "      <td>Abilene</td>\n",
       "      <td>TX</td>\n",
       "      <td>79605</td>\n",
       "      <td>2019-02-21</td>\n",
       "      <td>19:33:29</td>\n",
       "    </tr>\n",
       "    <tr>\n",
       "      <th>4</th>\n",
       "      <td>Sonic Drive-In</td>\n",
       "      <td>3856 S. Clack Street</td>\n",
       "      <td>Abilene</td>\n",
       "      <td>TX</td>\n",
       "      <td>79606</td>\n",
       "      <td>2019-02-21</td>\n",
       "      <td>19:33:29</td>\n",
       "    </tr>\n",
       "  </tbody>\n",
       "</table>\n",
       "</div>"
      ],
      "text/plain": [
       "            Brand                      Address     City State  Postal Code  \\\n",
       "0  Sonic Drive-In          1442 Barrow Street   Abilene    TX        79605   \n",
       "1  Sonic Drive-In        1734 N. First Street   Abilene    TX        79603   \n",
       "2  Sonic Drive-In  202 N. Judge Ely Boulevard   Abilene    TX        79601   \n",
       "3  Sonic Drive-In       2402 Sayles Boulevard   Abilene    TX        79605   \n",
       "4  Sonic Drive-In        3856 S. Clack Street   Abilene    TX        79606   \n",
       "\n",
       "         Date      Time  \n",
       "0  2019-02-21  19:33:29  \n",
       "1  2019-02-21  19:33:29  \n",
       "2  2019-02-21  19:33:29  \n",
       "3  2019-02-21  19:33:29  \n",
       "4  2019-02-21  19:33:29  "
      ]
     },
     "execution_count": 24,
     "metadata": {},
     "output_type": "execute_result"
    }
   ],
   "source": [
    "sonics_data_df = pd.read_csv(sonics_csv)\n",
    "sonics_data_df.head()"
   ]
  },
  {
   "cell_type": "code",
   "execution_count": 29,
   "metadata": {},
   "outputs": [
    {
     "data": {
      "text/plain": [
       "<function matplotlib.pyplot.show(*args, **kw)>"
      ]
     },
     "execution_count": 29,
     "metadata": {},
     "output_type": "execute_result"
    },
    {
     "data": {
      "image/png": "[encoded data removed]",
      "text/plain": [
       "<Figure size 432x288 with 1 Axes>"
      ]
     },
     "metadata": {},
     "output_type": "display_data"
    }
   ],
   "source": [
    "wendys_postal_code_count = wendys_data_df[\"Brand\"].value_counts()\n",
    "\n",
    "sonics_postal_code_count = sonics_data_df[\"Brand\"].value_counts()\n",
    "\n",
    "total_postal_code_count = wendys_postal_code_count.add(sonics_postal_code_count, fill_value = 0)\n",
    "\n",
    "total_postal_code_count.plot(kind = \"bar\", facecolor = \"red\")\n",
    "\n",
    "plt.title(\"Total # of Sonic Drive-In & Wendy's in Texas\")\n",
    "plt.ylabel(\"# of Restaurants in Texas\")\n",
    "plt.xlabel(\"Retaurant Name\")\n",
    "plt.show\n"
   ]
  },
  {
   "cell_type": "code",
   "execution_count": null,
   "metadata": {},
   "outputs": [],
   "source": []
  }
 ],
 "metadata": {
  "kernelspec": {
   "display_name": "Python 3",
   "language": "python",
   "name": "python3"
  },
  "language_info": {
   "codemirror_mode": {
    "name": "ipython",
    "version": 3
   },
   "file_extension": ".py",
   "mimetype": "text/x-python",
   "name": "python",
   "nbconvert_exporter": "python",
   "pygments_lexer": "ipython3",
   "version": "3.6.5"
  }
 },
 "nbformat": 4,
 "nbformat_minor": 2
}
